{
 "cells": [
  {
   "cell_type": "markdown",
   "metadata": {},
   "source": [
    "# Fitting $t$-student Copula"
   ]
  },
  {
   "cell_type": "markdown",
   "metadata": {},
   "source": [
    "In this jupyter notebook, we implement algos to fit a bivariate $t$-student copula.\n",
    "\n",
    "The algos we will use have been well covered in many financial publications. For this reason we will not spend time on deriving them. Our interest is in writing them in python.\n",
    "\n",
    "We personally found the following two materials very useful for preparing this notebook:\n",
    "\n",
    "Cherubini U, Luciano E, Vecchiato W, 2004. Copula Methods in Finance, Wiley,\n",
    "\n",
    "and\n",
    "\n",
    "Mashal R. and Zeevi A. 2002, Beyond Correlation: Extreme co-movements between financial assets, working paper, Columbia Graduate School of Business.\n",
    "\n",
    "There are also few libraries written in R covering variuos Copula topics. \n",
    "\n",
    "As a note, this is our second python workbook on copulas. In our first one, we covered Archimedean copulas. "
   ]
  },
  {
   "cell_type": "markdown",
   "metadata": {},
   "source": [
    "#### Copula canonical representation"
   ]
  },
  {
   "cell_type": "markdown",
   "metadata": {},
   "source": [
    "To estimate and calibrate a bivariate $t$-student copula, we apply the maximum likelihood estimation (MLE) to the associated copula density."
   ]
  },
  {
   "cell_type": "markdown",
   "metadata": {},
   "source": [
    "To derive the copula density, we use the copula canonical representation (at page 145 of Cherubini, Luciano, Vecchiato), which relates the copula density to the density of the distribution $F$, denoted as $f$\n",
    "\n",
    "\n",
    "$$f(x_1,x_2,..,x_m) = c(F_1(x_1),F_2(x_2),..,F_m(x_m)) \\prod_{i=1}^{m}f_{i}(x_i)$$\n",
    "\n",
    "where \n",
    "$c(F_1(x_1),F_2(x_2),..,F_m(x_m))$ is the density copula\n",
    "\n",
    "$$c(F_1(x_1),F_2(x_2),..,F_m(x_m)) = \\frac{\\partial^{m}{(C(F_1(x_1),F_2(x_2),..,F_m(x_m)))}}{\\partial{F_1(x_1)}\\partial{F_2(x_2)}..\\partial{F_m(x_m)}}$$\n",
    "\n",
    "\n",
    "$C(F_1(x_1),F_2(x_2),..,F_m(x_m))$ is the copula\n",
    "\n",
    "$$C(F_1(x_1),F_2(x_2),..,F_m(x_m)) = F(x_1,x_2,..,x_m)$$\n",
    "\n",
    "\n",
    "and $f_{i}(x_i)$ are the densities of the marginal distributions $F_i({x_i})$ \n",
    "\n",
    "$$f_{i}(x_i) = \\frac{dF_i({x_i})}{d{x_i}}$$\n",
    "\n",
    "*For the definition of the copula, please refer to the literature above, or instead go to our repository on Archimedean Copulas.  "
   ]
  },
  {
   "cell_type": "markdown",
   "metadata": {},
   "source": [
    "### Copula objects "
   ]
  },
  {
   "cell_type": "markdown",
   "metadata": {},
   "source": [
    "We will not work with the normal copula, neverthless it is worth writing its density, log likelihood function and maximim likelihood estimator, if only to compare them with the $t$ copula objects"
   ]
  },
  {
   "cell_type": "markdown",
   "metadata": {},
   "source": [
    "#### Normal Copula "
   ]
  },
  {
   "cell_type": "markdown",
   "metadata": {},
   "source": [
    "In the normal copula, there is only one object to be estimated, as it will be clear from the expression in (3), and are the elements of the correlation matrix $R$.\n",
    "\n",
    "1. Density \n",
    "\n",
    "$$\\frac{1}{{|R|^{1/2}\\sqrt[m]{(2\\pi)}}}e^{-0.5x^{'}R^{-1}x}=c(\\Phi(x_1),\\Phi(x_2),..,\\Phi(x_m)) \\prod_{i=1}^{m}\\frac{1}{\\sqrt{(2\\pi)}}e^{-0.5x_{i}^{2}}$$\n",
    "\n",
    "$$c(\\Phi(x_1),\\Phi(x_2),..,\\Phi(x_m)) = \\frac{\\frac{1}{{|R|^{-1}\\sqrt[m]{(2\\pi)}}}e^{-0.5x^{'}R^{-1}x}}{ \\prod_{i=1}^{m}\\frac{1}{\\sqrt{(2\\pi)}}e^{-0.5x_{i}^{2}}}$$\n",
    "\n",
    "\n",
    "With \n",
    "$u_i=\\Phi(x_i)$ so that $x_i=\\Phi^{-1}(u_i)$, which are the cumulative standard normal distribution function and its inverse,\n",
    "\n",
    "and \n",
    "\n",
    "$s = (\\Phi^{-1}(u_1),\\Phi^{-1}(u_2),..,\\Phi^{-1}(u_m))^{'}$\n",
    "\n",
    "the density is written as \n",
    "\n",
    "$$c(u_1,u_2,..,u_m;R) = \\frac{1}{\\sqrt{|R|}}exp\\left(-0.5s^{'}(R^{-1}-I)s\\right)$$\n",
    "\n",
    "\n",
    "2. Log-likelihood function (where now we have added the subscript $t$ to be able to sum over all the data avaiable) \n",
    "\n",
    "$$L^{gaussian}(\\theta) = -\\frac{T}{2}ln(|R|)-\\frac{1}{2}\\sum_{t=1}^Ts_t{^{'}(R^{-1}-I)s_t}$$\n",
    "\n",
    "3. The MLE of $\\theta$ = $R$ is\n",
    "\n",
    "$$\\tilde{R} = \\frac{1}{T}\\sum_{t=1}^Ts_t{^{'}s_t}$$\n",
    "\n",
    "from the fact that for maximization and minimization problems, we need a differentiable log-likelihood function in $\\theta$\n",
    "$$\\frac{\\partial}{\\partial{\\theta}}L(\\theta) = 0$$, \n",
    "\n",
    "\n",
    "$$\\tilde{\\theta}= \\tilde{R}$$\n",
    "\n",
    "$$\\frac{\\partial}{\\partial{R^{-1}}}L^{gaussian}(\\theta) = \\frac{T}{2}R-\\frac{1}{2}\\sum_{t=1}^Ts_t{^{'}s_t}$$"
   ]
  },
  {
   "cell_type": "markdown",
   "metadata": {},
   "source": [
    "#### $t$ Copula"
   ]
  },
  {
   "cell_type": "markdown",
   "metadata": {},
   "source": [
    "1. The density of a $t$ copula is below (at page 148 of Cherubini, Luciano, Vecchiato you can also read the various steps to arrive at its expression) \n",
    "\n",
    "$$c(u_1,u_2,..,u_m;R,v) = \\frac{1}{\\sqrt{|R|}}\\frac{\\Gamma(\\frac{v+m}{2})}{\\Gamma(\\frac{v+1}{2})}\\left(\\frac{\\Gamma(\\frac{v}{2})}{\\Gamma(\\frac{v+1}{2})}\\right)^m\\frac{\\left(1+\\frac{s^{'}R^{-1}s}{v}\\right)^{-\\frac{v+m}{2}}}{ \\prod_{i=1}^{m}\\left(1+\\frac{s_{i}^{2}}{v}\\right)^{-\\frac{v+1}{2}}}$$\n",
    "\n",
    "where now\n",
    "\n",
    "$s_i = t^{-1}_{v}(u_i)$ is the $t$ inverse with $v$ degrees of freedom\n",
    "\n",
    "\n",
    "2. log-likelihood function (where now we have added the subscript $t$ to be able to sum over all the data avaiable) \n",
    "\n",
    "$$\\frac{\\partial}{\\partial{R^{-1}}}L^{t-student}(\\theta) = \\frac{T}{2}R-\\frac{v+m}{2}\\sum_{t=1}^T\\frac{s_t^{'}s_t}{\\left(1+\\frac{s_t^{'}R^{-1}s_t}{v}\\right)}$$\n",
    "\n",
    "3. The MLE of $R$ must satisfy the following\n",
    "\n",
    "$$\\tilde{R} = \\frac{v+m}{2m}\\sum_{t=1}^T\\frac{s_t^{'}s_t}{\\left(1+\\frac{s_t^{'}\\tilde{R}^{-1}s_t}{v}\\right)}$$\n",
    "\n",
    "not that $\\tilde{R}$ appears on both sides."
   ]
  },
  {
   "cell_type": "markdown",
   "metadata": {},
   "source": [
    "#### Estimation "
   ]
  },
  {
   "cell_type": "markdown",
   "metadata": {},
   "source": [
    "For the  𝑡  Copula, there isn't an easy expression to maximize. Both  𝑅  and  𝑣  need to be estimated together with the parameters of the marginals.\n",
    "\n",
    "To avoid such a complex estimation, two methods have been proposed and used in the past:\n",
    "\n",
    "1 - Bouye', Durrelman, Nikeghbali, Riboulet and Roncalli method\n",
    "\n",
    "and\n",
    "\n",
    "2 - Mashal and Zeevi method"
   ]
  },
  {
   "cell_type": "markdown",
   "metadata": {},
   "source": [
    "With Bouye', Durrelman, Nikeghbali, Riboulet and Roncalli method (BDNRR) the following steps are taken:\n",
    "\n",
    "1. Transform the data into uniform variates $U$\n",
    "\n",
    "2. For each value of the degrees of freedom that are used during the fitting, \n",
    "    \n",
    "    - transform the uniform variates in $s_{i,t} = t^{-1}_{v}(u_{i,t})$ with $v$ degrees of freedom and for all dates $t$'s \n",
    "    - estimate the correlation matrix $R_{v,k=0}$ assuming a normal copula with the expression (3) above\n",
    "    - run the following recursive scheme to obtain the final correlation matrix\n",
    "    $$R_{v,k+1}= \\frac{v+M}{vT}\\sum_{t=1}^T\\frac{s_t{^{'}s_t}}{\\left(1+\\frac{s^{'}_{t}R^{-1}_{v,k}s_{t}}{v}\\right)}$$\n",
    "\n",
    "    - rescale the correlation matrix entries so that they have unit diagonal entries\n",
    "    $$(R_{v,k+1})_{i,j} = \\frac{(R_{v,k+1})_{i,j}}{\\sqrt{(R_{v,k+1})_{i,i}(R_{v,k+1})_{j,j}}}$$\n",
    "    \n",
    "3. For each value of the degrees of freedom that are used during the fitting, run the $t$ copula density using the corresponding correlation matrix found in 2.\n",
    " "
   ]
  },
  {
   "cell_type": "markdown",
   "metadata": {},
   "source": [
    "Mashal and Zeevi pointed out that the BDNRR method can become very slow as the dimension increases. \n",
    "\n",
    "They also argued that the quality of the BDNRR method might be affected by numerical instability due to the inversion of close to singular matrices.\n",
    "\n",
    "They proposed a two step fitting:\n",
    "\n",
    "1. First estimate the correlation matrix with the following relationship\n",
    "\n",
    "$$\\tau(X_i,X_j) = \\frac{2}{\\pi}arcsin(R_{i,j}) $$\n",
    "with $\\tau(X_i,X_j)$ as the Kendall's tau rank correlation coefficient between $X_i$ and $X_j$  \n",
    "\n",
    "2. Once the correlation matrix is estimated, the log likelihood of the canonical representation of the density of the $t$-student copula is maximized. \n",
    "\n",
    "The algo is much simpler to implement and to run."
   ]
  },
  {
   "cell_type": "markdown",
   "metadata": {},
   "source": [
    "#### Implementation "
   ]
  },
  {
   "cell_type": "markdown",
   "metadata": {},
   "source": [
    "We start by importing the python libraries we are using in this notebook"
   ]
  },
  {
   "cell_type": "code",
   "execution_count": 1,
   "metadata": {},
   "outputs": [],
   "source": [
    "import math\n",
    "\n",
    "import numpy as np\n",
    "import pandas as pd\n",
    "\n",
    "from scipy.stats import norm\n",
    "from scipy import stats\n",
    "from scipy.special import gamma\n",
    "\n",
    "import numpy.linalg\n",
    "\n",
    "import matplotlib as mpl\n",
    "import matplotlib.pyplot as plt\n",
    "%matplotlib inline"
   ]
  },
  {
   "cell_type": "markdown",
   "metadata": {},
   "source": [
    "Our 2 dimentional data was generated in R, using the package $copula$. We simulated 1000 point returns for each series.\n",
    "\n",
    "For the marginals, we assumed a normal distribution with 0 as a mean and 1 as a standard deviation.\n",
    "\n",
    "The two series were joined with a t-copula with 5 degrees of freedom, and a correlation of 0.30.\n",
    "\n",
    "We also used the same package to fit the t-copula: in R we found a rho coefficient of 0.294 and degrees of freedom of 4.15. \n",
    "\n",
    "The R script is attached."
   ]
  },
  {
   "cell_type": "code",
   "execution_count": 2,
   "metadata": {},
   "outputs": [
    {
     "name": "stdout",
     "output_type": "stream",
     "text": [
      "          X         Y\n",
      "0 -0.167493  0.363391\n",
      "1 -0.760309  0.113879\n",
      "            X         Y\n",
      "998  0.874971  0.385029\n",
      "999  0.803454 -1.437187\n"
     ]
    }
   ],
   "source": [
    "Returns = pd.read_csv ('Returns01.csv', index_col=False)\n",
    "print (Returns.head(2))\n",
    "print (Returns.tail(2))\n",
    "size = len(Returns)"
   ]
  },
  {
   "cell_type": "code",
   "execution_count": 3,
   "metadata": {},
   "outputs": [
    {
     "name": "stdout",
     "output_type": "stream",
     "text": [
      "[[1.         0.27756621]\n",
      " [0.27756621 1.        ]]\n",
      "--------------------------\n",
      "0.007445748123000016\n",
      "0.9941697977738432\n",
      "-0.08497005465700007\n",
      "0.9997046286273831\n"
     ]
    }
   ],
   "source": [
    "# Let's quickly print some statistics\n",
    "print (np.corrcoef(Returns.X, Returns.Y))\n",
    "print (\"--------------------------\")\n",
    "print (Returns.X.mean())\n",
    "print (Returns.X.std())\n",
    "print (Returns.Y.mean())\n",
    "print (Returns.Y.std())"
   ]
  },
  {
   "cell_type": "code",
   "execution_count": 4,
   "metadata": {},
   "outputs": [
    {
     "name": "stdout",
     "output_type": "stream",
     "text": [
      "X    1.643130e-17\n",
      "Y    7.549517e-17\n",
      "dtype: float64\n",
      "X    1.0\n",
      "Y    1.0\n",
      "dtype: float64\n",
      "[[1.         0.27756621]\n",
      " [0.27756621 1.        ]]\n"
     ]
    }
   ],
   "source": [
    "# Standardize the series. We do not need as the original series was already a standardised one.\n",
    "S = (Returns-Returns.mean() )/Returns.std()\n",
    "\n",
    "# Check\n",
    "print(S.mean())\n",
    "print(S.std())\n",
    "# and print the correlation matrix\n",
    "print(np.corrcoef(S.X, S.Y))\n",
    "# The correlation should be the same as before, as the transformation on the data was a linear transformation"
   ]
  },
  {
   "cell_type": "code",
   "execution_count": 5,
   "metadata": {},
   "outputs": [
    {
     "data": {
      "text/html": [
       "<div>\n",
       "<style scoped>\n",
       "    .dataframe tbody tr th:only-of-type {\n",
       "        vertical-align: middle;\n",
       "    }\n",
       "\n",
       "    .dataframe tbody tr th {\n",
       "        vertical-align: top;\n",
       "    }\n",
       "\n",
       "    .dataframe thead th {\n",
       "        text-align: right;\n",
       "    }\n",
       "</style>\n",
       "<table border=\"1\" class=\"dataframe\">\n",
       "  <thead>\n",
       "    <tr style=\"text-align: right;\">\n",
       "      <th></th>\n",
       "      <th>X</th>\n",
       "      <th>Y</th>\n",
       "    </tr>\n",
       "  </thead>\n",
       "  <tbody>\n",
       "    <tr>\n",
       "      <th>0</th>\n",
       "      <td>-0.175964</td>\n",
       "      <td>0.448494</td>\n",
       "    </tr>\n",
       "    <tr>\n",
       "      <th>1</th>\n",
       "      <td>-0.772258</td>\n",
       "      <td>0.198908</td>\n",
       "    </tr>\n",
       "    <tr>\n",
       "      <th>2</th>\n",
       "      <td>0.438080</td>\n",
       "      <td>1.082352</td>\n",
       "    </tr>\n",
       "    <tr>\n",
       "      <th>3</th>\n",
       "      <td>0.600893</td>\n",
       "      <td>0.084057</td>\n",
       "    </tr>\n",
       "    <tr>\n",
       "      <th>4</th>\n",
       "      <td>0.910151</td>\n",
       "      <td>0.022311</td>\n",
       "    </tr>\n",
       "  </tbody>\n",
       "</table>\n",
       "</div>"
      ],
      "text/plain": [
       "          X         Y\n",
       "0 -0.175964  0.448494\n",
       "1 -0.772258  0.198908\n",
       "2  0.438080  1.082352\n",
       "3  0.600893  0.084057\n",
       "4  0.910151  0.022311"
      ]
     },
     "execution_count": 5,
     "metadata": {},
     "output_type": "execute_result"
    }
   ],
   "source": [
    "S.head()"
   ]
  },
  {
   "cell_type": "code",
   "execution_count": 6,
   "metadata": {},
   "outputs": [
    {
     "data": {
      "text/plain": [
       "array([[1.        , 0.27756621],\n",
       "       [0.27756621, 1.        ]])"
      ]
     },
     "execution_count": 6,
     "metadata": {},
     "output_type": "execute_result"
    }
   ],
   "source": [
    "# Another check! For a \"standardised\" series the correlation matrix can also be calculated as follows  \n",
    "np.dot(np.transpose(S),S)/(size -1)"
   ]
  },
  {
   "cell_type": "markdown",
   "metadata": {},
   "source": [
    "Let's chart the returns"
   ]
  },
  {
   "cell_type": "code",
   "execution_count": 7,
   "metadata": {},
   "outputs": [
    {
     "data": {
      "image/png": "[encoded data removed]",
      "text/plain": [
       "<Figure size 576x288 with 1 Axes>"
      ]
     },
     "metadata": {
      "needs_background": "light"
     },
     "output_type": "display_data"
    }
   ],
   "source": [
    "plt.figure(figsize=(8, 4)) \n",
    "plt.scatter(Returns.X, Returns.Y, s = 10)\n",
    "plt.rcParams.update({'figure.figsize':(10,8), 'figure.dpi':100})\n",
    "plt.title('Joint Returns with t-Student Copula, Corr = 0.3, DoF = 5')\n",
    "plt.xlabel('X - Returns')\n",
    "plt.ylabel('Y - Returns')\n",
    "plt.show()"
   ]
  },
  {
   "cell_type": "code",
   "execution_count": 8,
   "metadata": {},
   "outputs": [],
   "source": [
    "def Determ(rho): # rho is the correlation coefficient\n",
    "    # calculates the determinant of a correlation matrix A\n",
    "    A = [[1, rho],[rho, 1]]\n",
    "    A = np.matrix(A)        \n",
    "    D = np.linalg.det(A)\n",
    "    return D\n",
    "\n",
    "def t_CopulaDensity(u, v, rho, dof):\n",
    "    # calculates the bivariate t-Copula density given:\n",
    "    # u and v ~U(0,1), \n",
    "    # a correlation value rho and \n",
    "    # degrees of freedom DoF\n",
    "    \n",
    "    s1 = stats.t.ppf(u, dof)# t_inv(u, dof)\n",
    "    t1 = stats.t.ppf(v, dof)# t_inv(v, dof)\n",
    "  \n",
    "    D  = np.sqrt(Determ(rho))\n",
    "    \n",
    "    block1 = gamma((dof + 2)/2.0) * gamma(dof / 2.0)\n",
    "    \n",
    "    block2 = D * gamma((dof + 1)/2.0)**2\n",
    "\n",
    "    block3 = (1+(s1*s1/dof))**(-.5*(dof+1)) * (1+(t1*t1/dof))**(-.5*(dof+1))\n",
    "    \n",
    "    A     = [[1, rho],[rho, 1]]\n",
    "    A     = np.matrix(A)    \n",
    "    InvA  = np.linalg.inv(A)         \n",
    "    Vect  = np.array([s1,t1])\n",
    "    VectT = np.matrix.transpose(Vect)\n",
    "    AA    = np.dot(VectT, InvA)\n",
    "    \n",
    "    block4 = np.dot(AA, Vect)[0,0]\n",
    "    block4 = block4 /dof   \n",
    "    block4 = (1 + block4)**(-.5*(dof+2))\n",
    "\n",
    "    return block1*block4 / (block2 * block3)"
   ]
  },
  {
   "cell_type": "code",
   "execution_count": 9,
   "metadata": {},
   "outputs": [],
   "source": [
    "def ff(x, y, rho):    \n",
    "    # This function is used in the NormalCopulaDensity to calculate the copula density value\n",
    "    A     = [[1, rho],[rho, 1]]\n",
    "    A     = np.matrix(A)    \n",
    "    InvA  = numpy.linalg.inv(A)  \n",
    "    I     = [[1, 0],[0, 1]]\n",
    "    I     = np.matrix(I)        \n",
    "    InvA_I= InvA - I\n",
    "    Vect  = np.array([x,y])\n",
    "    VectT = np.matrix.transpose(Vect)\n",
    "    AA    = np.dot(VectT, InvA_I)\n",
    "    AA    = np.dot(AA, Vect)\n",
    "    return np.exp(-0.5*AA[0,0])\n",
    "\n",
    "def NormalCopulaDensity(u,v, rho):      \n",
    "    # calculates the bivariate Normal Copula density given u and v ~U(0,1) and a correlation value rho\n",
    "    \n",
    "    s = norm.ppf(u) \n",
    "    t = norm.ppf(v)        \n",
    "    D = Determ(rho)    \n",
    "    return 1/ np.sqrt(D) * ff(s, t, rho)"
   ]
  },
  {
   "cell_type": "code",
   "execution_count": 10,
   "metadata": {},
   "outputs": [
    {
     "name": "stdout",
     "output_type": "stream",
     "text": [
      "0.6829197453824104\n",
      "0.686666173966271\n"
     ]
    }
   ],
   "source": [
    "# The t copula density is such a complex formula. Can we check we correctly implemented it?\n",
    "# For very large deegres of freedom, it should be close to normal copula density\n",
    "corr = 0.55\n",
    "dof  = 100\n",
    "u    = 0.75\n",
    "v    = 0.25\n",
    "print(t_CopulaDensity(u,v, corr, dof))\n",
    "print(NormalCopulaDensity(u,v, corr))"
   ]
  },
  {
   "cell_type": "code",
   "execution_count": 11,
   "metadata": {},
   "outputs": [],
   "source": [
    "# This calculates the target function to be maximized as described in Mashal and Zeevi (2002)\n",
    "# For each row observation in the data set U, we compute the log transformation of the t-copula density and sum over\n",
    "# We note that the U's are the empirical marginal transformations of the equity returns.\n",
    "# Note: The empirical marginal transformation fucntion is implemented below\n",
    "def t_copula_LogL(U, DoF, rho):\n",
    "    size      = len(U)\n",
    "    Sum_Log_L = 0\n",
    "    for t in range(size):\n",
    "        UU    = U.iloc[t]\n",
    "        u     = UU.X\n",
    "        v     = UU.Y\n",
    "        Log_L = np.log(t_CopulaDensity(u, v, rho, DoF))\n",
    "        Sum_Log_L = Sum_Log_L + Log_L\n",
    "    return Sum_Log_L"
   ]
  },
  {
   "cell_type": "code",
   "execution_count": 12,
   "metadata": {},
   "outputs": [],
   "source": [
    "def Empirical_dis(Y):    \n",
    "    # Computes the empirical marginal transformation, for the asset returns, \n",
    "    # as described in Mashal and Zeevi (2002).\n",
    "    size = len(Y)\n",
    "    X    = np.zeros(size)\n",
    "    count= 0\n",
    "    for k in range(size):\n",
    "        for s in range(size):\n",
    "            if (Y[s] <= Y[k]):\n",
    "                count = count + 1\n",
    "                \n",
    "        X[k] = count / size # the empirical distribution function\n",
    "        \n",
    "        if X[k] == 1:\n",
    "            X[k] =.999999 # otherwise, if 1, then we have problem in using the t inverse\n",
    "        \n",
    "        count = 0\n",
    "    return X"
   ]
  },
  {
   "cell_type": "code",
   "execution_count": 13,
   "metadata": {},
   "outputs": [],
   "source": [
    "# We now transform the equity returns via the empirical marginal transformation.\n",
    "U1    = Empirical_dis(S.X)\n",
    "U2    = Empirical_dis(S.Y)\n",
    "U_emp = np.array(([U1 , U2]))\n",
    "U_emp = np.matrix.transpose(U_emp)"
   ]
  },
  {
   "cell_type": "code",
   "execution_count": 14,
   "metadata": {},
   "outputs": [],
   "source": [
    "# we are going to use the array U, when testing the Mashal and Zeevi method\n",
    "U = np.array(([U1 , U2])) \n",
    "U = np.matrix.transpose(U)"
   ]
  },
  {
   "cell_type": "code",
   "execution_count": 15,
   "metadata": {},
   "outputs": [
    {
     "name": "stdout",
     "output_type": "stream",
     "text": [
      "(1000, 2)\n"
     ]
    }
   ],
   "source": [
    "print(U_emp.shape)\n",
    "U_emp =  pd.DataFrame(U_emp)\n",
    "U_emp.columns =['X', 'Y']"
   ]
  },
  {
   "cell_type": "markdown",
   "metadata": {},
   "source": [
    " Let's see the empirical marginal transformation of the returns"
   ]
  },
  {
   "cell_type": "code",
   "execution_count": 16,
   "metadata": {},
   "outputs": [
    {
     "data": {
      "image/png": "[encoded data removed]",
      "text/plain": [
       "<Figure size 800x400 with 1 Axes>"
      ]
     },
     "metadata": {
      "needs_background": "light"
     },
     "output_type": "display_data"
    }
   ],
   "source": [
    "plt.figure(figsize=(8, 4)) \n",
    "plt.scatter(U1, U2,s = 10)\n",
    "plt.rcParams.update({'figure.figsize':(10,8)}) #, 'figure.dpi':100})\n",
    "plt.title('Joint empirical marginal transformation with t-Student Copula, Corr = 0.3, DoF = 5')\n",
    "plt.xlabel('X - empirical marginal transformation')\n",
    "plt.ylabel('Y - empirical marginal transformation')\n",
    "plt.show()"
   ]
  },
  {
   "cell_type": "code",
   "execution_count": 17,
   "metadata": {},
   "outputs": [
    {
     "name": "stdout",
     "output_type": "stream",
     "text": [
      "43.716564868584726\n"
     ]
    }
   ],
   "source": [
    "# Let's test the t-copula density with 100 as DoF.\n",
    "CORR_EST = np.dot(np.transpose(S),S)[1,0]/(size -1)\n",
    "print(t_copula_LogL(U_emp, 100, CORR_EST))"
   ]
  },
  {
   "cell_type": "markdown",
   "metadata": {},
   "source": [
    "#### Bouye', Durrelman, Nikeghbali, Riboulet and Roncalli method (BDNRR)"
   ]
  },
  {
   "cell_type": "markdown",
   "metadata": {},
   "source": [
    "We now implement a function for the estimation of the correlation matrix under BDNRR method "
   ]
  },
  {
   "cell_type": "code",
   "execution_count": 18,
   "metadata": {},
   "outputs": [],
   "source": [
    "def CML_BDNRR(R, DoF, E_returns, printing = False):\n",
    "# ***************************************************\n",
    "# This algo only deals with a bivarite example ONLY \n",
    "# It estimates the 2 by 2 correlation matrix for the \n",
    "# Student's t copula via the Bouye at all (2000) algo.\n",
    "# ***************************************************\n",
    "    \n",
    "    # R   : correlation matrix\n",
    "    # DoF : degrees of freedom\n",
    "    # E_returns: Equity returns\n",
    "\n",
    "    N = 2             # The correlation matrix is a 2 by 2 matrix\n",
    "    T = len(E_returns)# the size of the equity return data set\n",
    "\n",
    "    t_Corr     = np.zeros((2,2))\n",
    "    Corr       = np.zeros((2,2))    \n",
    "    dummy_Corr = np.zeros((2,2))\n",
    "    \n",
    "    k = 0\n",
    "    precision = 1\n",
    "    tolerance = 0.0001\n",
    "    #for k in range(10):\n",
    "    while( (precision > tolerance) or (k > 50) ):    \n",
    "        if (k == 0):\n",
    "            RR = R\n",
    "        else:\n",
    "            RR = t_Corr\n",
    "            \n",
    "        Inv_R  = np.linalg.inv(RR)\n",
    "        #U_st_T = np.matrix.transpose(U_st)                       \n",
    "\n",
    "        SS_den = np.zeros((2,2))\n",
    "        for i in range(size):\n",
    "            X      = E_returns[i,:]\n",
    "            X      = X.reshape(2,1)\n",
    "            aa     = np.dot(X, np.transpose(X))\n",
    "            bb     = 1 + np.dot(np.dot(np.transpose(X), Inv_R), (X))/ DoF    \n",
    "            SS_den = SS_den + aa/bb\n",
    "    \n",
    "        dummy_Corr = SS_den\n",
    "        \n",
    "        t_Corr     = dummy_Corr*(DoF+N)/(T*DoF)\n",
    "        precision  = abs(t_Corr[1,0] - RR[1,0])\n",
    "        if (printing):\n",
    "            print(\"iteration no.\", k, t_Corr[1,0])\n",
    "        \n",
    "        k += 1\n",
    "\n",
    "    # Rescale matrix entries in order to have unit diagonal elements\n",
    "    for ii in range(N):\n",
    "        for jj in range(ii):\n",
    "            Corr[ii , jj] = t_Corr[ii, jj] / (np.sqrt(t_Corr[ii, ii])*np.sqrt(t_Corr[jj, jj]))\n",
    "            Corr[jj , ii] = Corr[ii, jj]\n",
    "    \n",
    "    Corr[0,0] = 1.0\n",
    "    Corr[1,1] = 1.0\n",
    "    \n",
    "    return Corr"
   ]
  },
  {
   "cell_type": "markdown",
   "metadata": {},
   "source": [
    "Let's prepare our data in the right format!"
   ]
  },
  {
   "cell_type": "code",
   "execution_count": 19,
   "metadata": {},
   "outputs": [
    {
     "data": {
      "text/plain": [
       "array([[1.        , 0.27756621],\n",
       "       [0.27756621, 1.        ]])"
      ]
     },
     "execution_count": 19,
     "metadata": {},
     "output_type": "execute_result"
    }
   ],
   "source": [
    "# Correlation Matrix\n",
    "RR = np.dot(np.transpose(S),S)/(size -1)\n",
    "RR"
   ]
  },
  {
   "cell_type": "code",
   "execution_count": 20,
   "metadata": {},
   "outputs": [],
   "source": [
    "# Equity Returns\n",
    "SS = np.array(([np.array(S.X), np.array(S.Y)]))\n",
    "SS = np.matrix.transpose(SS)"
   ]
  },
  {
   "cell_type": "code",
   "execution_count": 21,
   "metadata": {},
   "outputs": [
    {
     "name": "stdout",
     "output_type": "stream",
     "text": [
      "iteration no. 0 0.2568320504648389\n",
      "iteration no. 1 0.25108309615826035\n",
      "iteration no. 2 0.2494681037881368\n",
      "iteration no. 3 0.2490159526995803\n",
      "iteration no. 4 0.24889025164769019\n",
      "iteration no. 5 0.24885550706477508\n",
      "[[1.         0.29900498]\n",
      " [0.29900498 1.        ]]\n"
     ]
    }
   ],
   "source": [
    "#Test it with 10 degrees of freedom\n",
    "corr = CML_BDNRR(RR, 10, SS, True)\n",
    "print (corr)"
   ]
  },
  {
   "cell_type": "markdown",
   "metadata": {},
   "source": [
    "We now find the DoF and Correlation Matrix by running t_copula_LogL"
   ]
  },
  {
   "cell_type": "code",
   "execution_count": 22,
   "metadata": {},
   "outputs": [
    {
     "name": "stdout",
     "output_type": "stream",
     "text": [
      "dof 2  -  37.53700554803296\n",
      "dof 3  -  59.074322992068666\n",
      "dof 4  -  63.90266487263061\n",
      "dof 5  -  64.61616916864162\n",
      "dof 6  -  64.06154557593777\n",
      "dof 7  -  63.09439040001469\n",
      "dof 8  -  62.017555382252496\n",
      "dof 9  -  60.94755216252965\n",
      "dof 10  -  59.929819387594826\n",
      "dof 11  -  58.98019924854302\n",
      "dof 12  -  58.10177532368745\n",
      "dof 13  -  57.292055222762826\n",
      "dof 14  -  56.5462941959346\n",
      "dof 15  -  55.859025636942995\n",
      "dof 16  -  55.224776286293014\n",
      "dof 17  -  54.638346420274196\n",
      "dof 18  -  54.09510093617746\n",
      "dof 19  -  53.59074482730334\n",
      "dof 20  -  53.12148557410165\n",
      "dof 21  -  52.683953009907526\n",
      "dof 22  -  52.275157816687425\n",
      "dof 23  -  51.89244894822846\n",
      "dof 24  -  51.53347352112343\n",
      "dof 25  -  51.19614053372968\n",
      "dof 26  -  50.878588177606936\n",
      "dof 27  -  50.57915539654082\n",
      "dof 28  -  50.296356913852094\n",
      "dof 29  -  50.02886167796028\n"
     ]
    }
   ],
   "source": [
    "Array_of_DoF_Bouye = []\n",
    "LogML_Bouye        = []\n",
    "\n",
    "for degree_of_freedom in range(2,30): # with a degree_of_freedom value, ranging from 2 to 30 \n",
    "    # 1 - we estimate the correlation matrix, \n",
    "    corr = CML_BDNRR(RR, degree_of_freedom, SS)\n",
    "    # 2 - and we calculate the Likelihood function value\n",
    "    res = t_copula_LogL(U_emp, degree_of_freedom, corr[1,0])\n",
    "    # 3 - print results\n",
    "    print(\"dof\", degree_of_freedom, \" - \", res)\n",
    "    # 4 - store results\n",
    "    Array_of_DoF_Bouye.append(degree_of_freedom)\n",
    "    LogML_Bouye.append(res)"
   ]
  },
  {
   "cell_type": "code",
   "execution_count": 23,
   "metadata": {},
   "outputs": [
    {
     "name": "stdout",
     "output_type": "stream",
     "text": [
      "The max LogLL Value of 64.616 is reached with 5 DoF\n"
     ]
    }
   ],
   "source": [
    "MaxValue_BDNRR = np.max(LogML_Bouye)\n",
    "DoF_BDNRR      = np.where(LogML_Bouye == MaxValue_BDNRR)[0][0]\n",
    "print(\"The max LogLL Value of\", np.round(MaxValue_BDNRR,3), \"is reached with\", Array_of_DoF_Bouye[DoF_BDNRR], \"DoF\")"
   ]
  },
  {
   "cell_type": "markdown",
   "metadata": {},
   "source": [
    "A question naturally arises: do we realy benefit from \"finding\" the Correlation Matrix with such an intense recursive scheme?\n",
    "\n",
    "Let's just use the correlation matrix, \"RR\", as estimated with the normal copula, with Degrees of Freedom ranging from 2 to 30, and check how the Loglikelihood function values compare with the previous ones."
   ]
  },
  {
   "cell_type": "code",
   "execution_count": 24,
   "metadata": {},
   "outputs": [
    {
     "name": "stdout",
     "output_type": "stream",
     "text": [
      "dof 2  -  39.039683228558786\n",
      "dof 3  -  59.644373915195615\n",
      "dof 4  -  64.04875928199172\n",
      "dof 5  -  64.5562316588867\n",
      "dof 6  -  63.89848503117018\n",
      "dof 7  -  62.880569416647916\n",
      "dof 8  -  61.78091345339247\n",
      "dof 9  -  60.7035862086571\n",
      "dof 10  -  59.687192029547845\n",
      "dof 11  -  58.743756121465665\n",
      "dof 12  -  57.874116286247286\n",
      "dof 13  -  57.07446899194333\n",
      "dof 14  -  56.339283173046674\n",
      "dof 15  -  55.662622104114234\n",
      "dof 16  -  55.038735284332176\n",
      "dof 17  -  54.462304813601826\n",
      "dof 18  -  53.9285267768409\n",
      "dof 19  -  53.433114556597424\n",
      "dof 20  -  52.97226702126695\n",
      "dof 21  -  52.542622934986014\n",
      "dof 22  -  52.14121230707762\n",
      "dof 23  -  51.765409231400156\n",
      "dof 24  -  51.41288882852332\n",
      "dof 25  -  51.08158907310496\n",
      "dof 26  -  50.769676934040895\n",
      "dof 27  -  50.475519209584014\n",
      "dof 28  -  50.19765713905245\n",
      "dof 29  -  49.93478460441788\n"
     ]
    }
   ],
   "source": [
    "Array_of_DoF = []\n",
    "LogML        = []\n",
    "CORR_EST  = np.dot(np.transpose(S),S)[1,0]/(size -1)\n",
    "for degree_of_freedom in range(2,30):\n",
    "    res = t_copula_LogL(U_emp, degree_of_freedom, RR[1,0] )\n",
    "    print(\"dof\", degree_of_freedom, \" - \", res)\n",
    "    Array_of_DoF.append(degree_of_freedom)\n",
    "    LogML.append(res)    "
   ]
  },
  {
   "cell_type": "code",
   "execution_count": 25,
   "metadata": {},
   "outputs": [
    {
     "data": {
      "image/png": "[encoded data removed]",
      "text/plain": [
       "<Figure size 1000x600 with 1 Axes>"
      ]
     },
     "metadata": {
      "needs_background": "light"
     },
     "output_type": "display_data"
    }
   ],
   "source": [
    "plt.figure(figsize=(10,6))\n",
    "plt.plot(Array_of_DoF_Bouye, LogML_Bouye, marker='.', lw=1.5, \\\n",
    "         color='blue', label ='Log ML Value with Correlation Matrix as estimated via BDNRR method' )\n",
    "plt.plot(Array_of_DoF, LogML, marker='.', lw=1.5,  \\\n",
    "         color='red', label ='Log ML Value with Correlation Matrix as the original asset returns correlation')\n",
    "plt.legend()\n",
    "plt.xlabel('Degrees of Freedom')  \n",
    "plt.ylabel('Log Max Likelihood Value')\n",
    "plt.grid(True)\n",
    "plt.title(\"CML Estimation\");\n",
    "plt.show()"
   ]
  },
  {
   "cell_type": "markdown",
   "metadata": {},
   "source": [
    "** It looks like the benefit from estimating the correlation matrix with BDNRR method is minimal, at least with our dataset **"
   ]
  },
  {
   "cell_type": "markdown",
   "metadata": {},
   "source": [
    "#### Mashal and Zeevi method "
   ]
  },
  {
   "cell_type": "markdown",
   "metadata": {},
   "source": [
    "We now implement our function for the estimation of the correlation matrix under Mashal and Zeevi method "
   ]
  },
  {
   "cell_type": "code",
   "execution_count": 26,
   "metadata": {},
   "outputs": [],
   "source": [
    "def CML_MM(U):\n",
    "# ***************************************************\n",
    "# This algo only deals with a bivarite example ONLY \n",
    "# It estimates the 2 by 2 correlation matrix for the \n",
    "# Student's t copula via Mashal and Zeevi algo.\n",
    "# ***************************************************\n",
    "    \n",
    "    # U_st: is the empirical marginal transformation of asset returns\n",
    "    \n",
    "    N = 2        # The correlation matrix is a 2 by 2 matrix\n",
    "    T = len(U)   # the size of the equity return data set\n",
    "\n",
    "    CorrMatrix = np.zeros((2,2))    \n",
    "    \n",
    "    tau, p_value    = stats.kendalltau(U[:,0], U[:,1])\n",
    "    CorrMatrix[1,0] = math.sin(math.pi*0.5*tau)\n",
    "    CorrMatrix[0,1] = CorrMatrix[1,0]\n",
    "    CorrMatrix[0,0] = 1.0\n",
    "    CorrMatrix[1,1] = 1.0\n",
    "      \n",
    "    return CorrMatrix"
   ]
  },
  {
   "cell_type": "code",
   "execution_count": 27,
   "metadata": {},
   "outputs": [
    {
     "name": "stdout",
     "output_type": "stream",
     "text": [
      "[[1.         0.29438596]\n",
      " [0.29438596 1.        ]]\n"
     ]
    }
   ],
   "source": [
    "Corr_Matrix_MZ = CML_MM(U)\n",
    "print(Corr_Matrix_MZ)"
   ]
  },
  {
   "cell_type": "code",
   "execution_count": 28,
   "metadata": {},
   "outputs": [
    {
     "name": "stdout",
     "output_type": "stream",
     "text": [
      "dof 2  -  38.46984171633331\n",
      "dof 3  -  59.490988649661325\n",
      "dof 4  -  64.08678469963203\n",
      "dof 5  -  64.69159347537851\n",
      "dof 6  -  64.08542311621737\n",
      "dof 7  -  63.094508756320735\n",
      "dof 8  -  62.00774607199764\n",
      "dof 9  -  60.934843343087245\n",
      "dof 10  -  59.91764421569329\n",
      "dof 11  -  58.97012640457248\n",
      "dof 12  -  58.09434841248058\n",
      "dof 13  -  57.28729141088781\n",
      "dof 14  -  56.54393942594411\n",
      "dof 15  -  55.85869898380329\n",
      "dof 16  -  55.22605056984577\n",
      "dof 17  -  54.640832423505984\n",
      "dof 18  -  54.09834602944132\n",
      "dof 19  -  53.59437530945399\n",
      "dof 20  -  53.125165464402286\n",
      "dof 21  -  52.68738464591955\n",
      "dof 22  -  52.27808033921792\n",
      "dof 23  -  51.8946357079467\n",
      "dof 24  -  51.534729018803404\n",
      "dof 25  -  51.19629725307729\n",
      "dof 26  -  50.87750350289898\n",
      "dof 27  -  50.57670872370943\n",
      "dof 28  -  50.29244700132054\n",
      "dof 29  -  50.02340426775251\n"
     ]
    }
   ],
   "source": [
    "Array_of_DoF_MZ = []\n",
    "LogML_MZ        = []\n",
    "\n",
    "for degree_of_freedom in range(2,30):\n",
    "    res = t_copula_LogL(U_emp, degree_of_freedom, Corr_Matrix_MZ[1,0] )\n",
    "    print(\"dof\", degree_of_freedom, \" - \", res)\n",
    "    Array_of_DoF_MZ.append(degree_of_freedom)\n",
    "    LogML_MZ.append(res)    "
   ]
  },
  {
   "cell_type": "code",
   "execution_count": 29,
   "metadata": {},
   "outputs": [
    {
     "data": {
      "image/png": "[encoded data removed]",
      "text/plain": [
       "<Figure size 1000x600 with 1 Axes>"
      ]
     },
     "metadata": {
      "needs_background": "light"
     },
     "output_type": "display_data"
    }
   ],
   "source": [
    "plt.figure(figsize=(10,6))\n",
    "plt.plot(Array_of_DoF_Bouye, LogML_Bouye, marker='.', lw=1.5, \\\n",
    "         color='blue', label ='Log ML Value with Correlation Matrix as estimated via BDNRR method' )\n",
    "plt.plot(Array_of_DoF_MZ, LogML_MZ, marker='.', lw=1.5,  \\\n",
    "         color='red', label ='Log ML Value with Correlation Matrix as estimated via Mashal Zeevi method')\n",
    "plt.legend()\n",
    "plt.xlabel('Degrees of Freedom')  \n",
    "plt.ylabel('Log Max Likelihood Value')\n",
    "plt.grid(True)\n",
    "plt.title(\"CML Estimation: BDNRR vs Mashal and Zeevi method\");\n",
    "plt.show()"
   ]
  },
  {
   "cell_type": "markdown",
   "metadata": {},
   "source": [
    "#### BDNRR estimation results: correlation matrix and dof "
   ]
  },
  {
   "cell_type": "code",
   "execution_count": 30,
   "metadata": {},
   "outputs": [
    {
     "name": "stdout",
     "output_type": "stream",
     "text": [
      "BDNRR - The max LogLL Value of 64.616 is reached with 5 DoF\n",
      "with Correlation Matrix\n",
      "[[1.     0.3108]\n",
      " [0.3108 1.    ]]\n"
     ]
    }
   ],
   "source": [
    "MaxValue_BDNRR = np.max(LogML_Bouye)\n",
    "DoF_BDNRR      = np.where(LogML_Bouye == MaxValue_BDNRR)[0][0]\n",
    "print(\"BDNRR - The max LogLL Value of\", np.round(MaxValue_BDNRR,3), \"is reached with\", Array_of_DoF_Bouye[DoF_BDNRR], \"DoF\")\n",
    "\n",
    "CorrMatrixBDNRR =  CML_BDNRR(RR, DoF_BDNRR, SS, False)\n",
    "print(\"with Correlation Matrix\")\n",
    "print(np.round(CorrMatrixBDNRR,4))"
   ]
  },
  {
   "cell_type": "markdown",
   "metadata": {},
   "source": [
    "#### Mashal and Zeevi estimation results: correlation matrix and dof "
   ]
  },
  {
   "cell_type": "code",
   "execution_count": 31,
   "metadata": {},
   "outputs": [
    {
     "name": "stdout",
     "output_type": "stream",
     "text": [
      "MZ - The max LogLL Value of 64.692 is reached with 5 DoF\n",
      "with Correlation Matrix\n",
      "[[1.     0.2944]\n",
      " [0.2944 1.    ]]\n"
     ]
    }
   ],
   "source": [
    "MaxValue_MZ = np.max(LogML_MZ)\n",
    "DoF_MZ      = np.where(LogML_MZ == MaxValue_MZ)[0][0]\n",
    "print(\"MZ - The max LogLL Value of\", np.round(MaxValue_MZ,3), \"is reached with\", Array_of_DoF_MZ[DoF_MZ], \"DoF\")\n",
    "print(\"with Correlation Matrix\")\n",
    "print(np.round(Corr_Matrix_MZ,4))"
   ]
  },
  {
   "cell_type": "markdown",
   "metadata": {},
   "source": [
    "** We are NOT too far from the results in R **"
   ]
  },
  {
   "cell_type": "markdown",
   "metadata": {},
   "source": [
    "Can we do any better?\n",
    "\n",
    "Let's decrease the unit delta steps applied to the degrees of freedom when runnnig the t_copula_LogL function with Mashal and Zeevi method. \n",
    "\n",
    "Obviously, we could use the object $root$ from scipy.optimize, but not this time."
   ]
  },
  {
   "cell_type": "code",
   "execution_count": 32,
   "metadata": {},
   "outputs": [],
   "source": [
    "Array_of_DoF_MZ_2 = []\n",
    "LogML_MZ_2        = []\n",
    "\n",
    "for degree_of_freedom in np.linspace(3.5,5.5,50): #delta steps applied to the degrees of freedom\n",
    "    res = t_copula_LogL(U_emp, degree_of_freedom, Corr_Matrix_MZ[1,0] )\n",
    "    Array_of_DoF_MZ_2.append(degree_of_freedom)\n",
    "    LogML_MZ_2.append(res)  "
   ]
  },
  {
   "cell_type": "code",
   "execution_count": 34,
   "metadata": {},
   "outputs": [
    {
     "name": "stdout",
     "output_type": "stream",
     "text": [
      "MZ - The max LogLL Value of 64.712 is reached with 4.806 DoF\n",
      "with Correlation Matrix\n",
      "[[1.     0.2944]\n",
      " [0.2944 1.    ]]\n"
     ]
    }
   ],
   "source": [
    "MaxValue_MZ_2 = np.max(LogML_MZ_2)\n",
    "DoF_MZ_2      = np.where(LogML_MZ_2 == MaxValue_MZ_2)[0][0]\n",
    "print(\"MZ - The max LogLL Value of\", np.round(MaxValue_MZ_2,3), \"is reached with\", \\\n",
    "      np.round(Array_of_DoF_MZ_2[DoF_MZ_2],3), \"DoF\")\n",
    "print(\"with Correlation Matrix\")\n",
    "print(np.round(Corr_Matrix_MZ,4))"
   ]
  },
  {
   "cell_type": "markdown",
   "metadata": {},
   "source": [
    "** We are much closer now to the results in R **"
   ]
  }
 ],
 "metadata": {
  "kernelspec": {
   "display_name": "Python 3",
   "language": "python",
   "name": "python3"
  },
  "language_info": {
   "codemirror_mode": {
    "name": "ipython",
    "version": 3
   },
   "file_extension": ".py",
   "mimetype": "text/x-python",
   "name": "python",
   "nbconvert_exporter": "python",
   "pygments_lexer": "ipython3",
   "version": "3.8.3"
  }
 },
 "nbformat": 4,
 "nbformat_minor": 4
}
